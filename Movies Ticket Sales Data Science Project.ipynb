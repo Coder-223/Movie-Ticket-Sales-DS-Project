{
 "cells": [
  {
   "cell_type": "code",
   "execution_count": 5,
   "id": "1bb8b0a9",
   "metadata": {},
   "outputs": [],
   "source": [
    "#Importing necessary functions\n",
    "import pandas as pd\n",
    "import numpy as np\n",
    "import seaborn as sns\n",
    "import matplotlib.pyplot as plt\n",
    "from sklearn.pipeline import Pipeline\n",
    "from sklearn.preprocessing import StandardScaler, PolynomialFeatures\n",
    "from sklearn.model_selection import train_test_split, cross_val_score, GridSearchCV\n",
    "from sklearn.linear_model import LinearRegression, Ridge, Lasso\n",
    "from sklearn.metrics import mean_squared_error, r2_score\n",
    "\n",
    "df = pd.read_csv(\"HighestGrossers.csv\")"
   ]
  },
  {
   "cell_type": "code",
   "execution_count": 56,
   "id": "94582158",
   "metadata": {},
   "outputs": [
    {
     "data": {
      "text/html": [
       "<div>\n",
       "<style scoped>\n",
       "    .dataframe tbody tr th:only-of-type {\n",
       "        vertical-align: middle;\n",
       "    }\n",
       "\n",
       "    .dataframe tbody tr th {\n",
       "        vertical-align: top;\n",
       "    }\n",
       "\n",
       "    .dataframe thead th {\n",
       "        text-align: right;\n",
       "    }\n",
       "</style>\n",
       "<table border=\"1\" class=\"dataframe\">\n",
       "  <thead>\n",
       "    <tr style=\"text-align: right;\">\n",
       "      <th></th>\n",
       "      <th>YEAR</th>\n",
       "      <th>MOVIE</th>\n",
       "      <th>GENRE</th>\n",
       "      <th>MPAA RATING</th>\n",
       "      <th>DISTRIBUTOR</th>\n",
       "      <th>TOTAL BOX OFFICE FOR YEAR</th>\n",
       "      <th>TOTAL BOX OFFICE IN 2019 DOLLARS</th>\n",
       "      <th>TICKETS SOLD</th>\n",
       "    </tr>\n",
       "  </thead>\n",
       "  <tbody>\n",
       "    <tr>\n",
       "      <th>0</th>\n",
       "      <td>1995</td>\n",
       "      <td>Batman Forever</td>\n",
       "      <td>Drama</td>\n",
       "      <td>PG-13</td>\n",
       "      <td>Warner Bros.</td>\n",
       "      <td>184031112</td>\n",
       "      <td>387552978</td>\n",
       "      <td>42306002</td>\n",
       "    </tr>\n",
       "    <tr>\n",
       "      <th>1</th>\n",
       "      <td>1996</td>\n",
       "      <td>Independence Day</td>\n",
       "      <td>Adventure</td>\n",
       "      <td>PG-13</td>\n",
       "      <td>20th Century Fox</td>\n",
       "      <td>306169255</td>\n",
       "      <td>634504608</td>\n",
       "      <td>69269062</td>\n",
       "    </tr>\n",
       "    <tr>\n",
       "      <th>2</th>\n",
       "      <td>1997</td>\n",
       "      <td>Men in Black</td>\n",
       "      <td>Adventure</td>\n",
       "      <td>PG-13</td>\n",
       "      <td>Sony Pictures</td>\n",
       "      <td>250650052</td>\n",
       "      <td>500207943</td>\n",
       "      <td>54607854</td>\n",
       "    </tr>\n",
       "    <tr>\n",
       "      <th>3</th>\n",
       "      <td>1998</td>\n",
       "      <td>Titanic</td>\n",
       "      <td>Adventure</td>\n",
       "      <td>PG-13</td>\n",
       "      <td>Paramount Pictures</td>\n",
       "      <td>443319081</td>\n",
       "      <td>865842808</td>\n",
       "      <td>94524324</td>\n",
       "    </tr>\n",
       "    <tr>\n",
       "      <th>4</th>\n",
       "      <td>1999</td>\n",
       "      <td>Star Wars Ep. I: The Phantom Menace</td>\n",
       "      <td>Adventure</td>\n",
       "      <td>PG</td>\n",
       "      <td>20th Century Fox</td>\n",
       "      <td>430443350</td>\n",
       "      <td>776153749</td>\n",
       "      <td>84732942</td>\n",
       "    </tr>\n",
       "    <tr>\n",
       "      <th>5</th>\n",
       "      <td>2000</td>\n",
       "      <td>How the Grinch Stole Christmas</td>\n",
       "      <td>Adventure</td>\n",
       "      <td>PG</td>\n",
       "      <td>Universal</td>\n",
       "      <td>253367455</td>\n",
       "      <td>430583644</td>\n",
       "      <td>47006948</td>\n",
       "    </tr>\n",
       "    <tr>\n",
       "      <th>6</th>\n",
       "      <td>2001</td>\n",
       "      <td>Harry Potter and the Sorcerer’s Stone</td>\n",
       "      <td>Adventure</td>\n",
       "      <td>PG</td>\n",
       "      <td>Warner Bros.</td>\n",
       "      <td>300404434</td>\n",
       "      <td>486166890</td>\n",
       "      <td>53074988</td>\n",
       "    </tr>\n",
       "    <tr>\n",
       "      <th>7</th>\n",
       "      <td>2002</td>\n",
       "      <td>Spider-Man</td>\n",
       "      <td>Adventure</td>\n",
       "      <td>PG-13</td>\n",
       "      <td>Sony Pictures</td>\n",
       "      <td>403706375</td>\n",
       "      <td>636480273</td>\n",
       "      <td>69484746</td>\n",
       "    </tr>\n",
       "    <tr>\n",
       "      <th>8</th>\n",
       "      <td>2003</td>\n",
       "      <td>Finding Nemo</td>\n",
       "      <td>Adventure</td>\n",
       "      <td>G</td>\n",
       "      <td>Walt Disney</td>\n",
       "      <td>339714367</td>\n",
       "      <td>516050346</td>\n",
       "      <td>56337374</td>\n",
       "    </tr>\n",
       "    <tr>\n",
       "      <th>9</th>\n",
       "      <td>2004</td>\n",
       "      <td>Shrek 2</td>\n",
       "      <td>Adventure</td>\n",
       "      <td>PG</td>\n",
       "      <td>Dreamworks SKG</td>\n",
       "      <td>441226247</td>\n",
       "      <td>650826473</td>\n",
       "      <td>71050925</td>\n",
       "    </tr>\n",
       "    <tr>\n",
       "      <th>10</th>\n",
       "      <td>2005</td>\n",
       "      <td>Star Wars Ep. III: Revenge of the Sith</td>\n",
       "      <td>Action</td>\n",
       "      <td>PG-13</td>\n",
       "      <td>20th Century Fox</td>\n",
       "      <td>380270577</td>\n",
       "      <td>543413171</td>\n",
       "      <td>59324582</td>\n",
       "    </tr>\n",
       "    <tr>\n",
       "      <th>11</th>\n",
       "      <td>2006</td>\n",
       "      <td>Pirates of the Caribbean: Dead Man’s Chest</td>\n",
       "      <td>Action</td>\n",
       "      <td>PG-13</td>\n",
       "      <td>Walt Disney</td>\n",
       "      <td>423315812</td>\n",
       "      <td>591995851</td>\n",
       "      <td>64628368</td>\n",
       "    </tr>\n",
       "    <tr>\n",
       "      <th>12</th>\n",
       "      <td>2007</td>\n",
       "      <td>Spider-Man 3</td>\n",
       "      <td>Adventure</td>\n",
       "      <td>PG-13</td>\n",
       "      <td>Sony Pictures</td>\n",
       "      <td>336530303</td>\n",
       "      <td>448054878</td>\n",
       "      <td>48914288</td>\n",
       "    </tr>\n",
       "    <tr>\n",
       "      <th>13</th>\n",
       "      <td>2008</td>\n",
       "      <td>The Dark Knight</td>\n",
       "      <td>Adventure</td>\n",
       "      <td>PG-13</td>\n",
       "      <td>Warner Bros.</td>\n",
       "      <td>531001578</td>\n",
       "      <td>677433772</td>\n",
       "      <td>73955652</td>\n",
       "    </tr>\n",
       "    <tr>\n",
       "      <th>14</th>\n",
       "      <td>2009</td>\n",
       "      <td>Transformers: Revenge of the Fallen</td>\n",
       "      <td>Action</td>\n",
       "      <td>PG-13</td>\n",
       "      <td>Paramount Pictures</td>\n",
       "      <td>402111870</td>\n",
       "      <td>491112631</td>\n",
       "      <td>53614916</td>\n",
       "    </tr>\n",
       "    <tr>\n",
       "      <th>15</th>\n",
       "      <td>2010</td>\n",
       "      <td>Toy Story 3</td>\n",
       "      <td>Action</td>\n",
       "      <td>G</td>\n",
       "      <td>Walt Disney</td>\n",
       "      <td>415004880</td>\n",
       "      <td>481805411</td>\n",
       "      <td>52598844</td>\n",
       "    </tr>\n",
       "    <tr>\n",
       "      <th>16</th>\n",
       "      <td>2011</td>\n",
       "      <td>Harry Potter and the Deathly Hallows: Part II</td>\n",
       "      <td>Action</td>\n",
       "      <td>PG-13</td>\n",
       "      <td>Warner Bros.</td>\n",
       "      <td>381011219</td>\n",
       "      <td>440108798</td>\n",
       "      <td>48046812</td>\n",
       "    </tr>\n",
       "    <tr>\n",
       "      <th>17</th>\n",
       "      <td>2012</td>\n",
       "      <td>The Avengers</td>\n",
       "      <td>Adventure</td>\n",
       "      <td>PG-13</td>\n",
       "      <td>Walt Disney</td>\n",
       "      <td>623357910</td>\n",
       "      <td>717331462</td>\n",
       "      <td>78311295</td>\n",
       "    </tr>\n",
       "    <tr>\n",
       "      <th>18</th>\n",
       "      <td>2013</td>\n",
       "      <td>Iron Man 3</td>\n",
       "      <td>Adventure</td>\n",
       "      <td>PG-13</td>\n",
       "      <td>Walt Disney</td>\n",
       "      <td>408992272</td>\n",
       "      <td>460808016</td>\n",
       "      <td>50306552</td>\n",
       "    </tr>\n",
       "    <tr>\n",
       "      <th>19</th>\n",
       "      <td>2014</td>\n",
       "      <td>Guardians of the Galaxy</td>\n",
       "      <td>Adventure</td>\n",
       "      <td>PG-13</td>\n",
       "      <td>Walt Disney</td>\n",
       "      <td>333055258</td>\n",
       "      <td>373413235</td>\n",
       "      <td>40765637</td>\n",
       "    </tr>\n",
       "    <tr>\n",
       "      <th>20</th>\n",
       "      <td>2015</td>\n",
       "      <td>Star Wars Ep. VII: The Force Awakens</td>\n",
       "      <td>Action</td>\n",
       "      <td>PG-13</td>\n",
       "      <td>Walt Disney</td>\n",
       "      <td>742208942</td>\n",
       "      <td>806480887</td>\n",
       "      <td>88043765</td>\n",
       "    </tr>\n",
       "    <tr>\n",
       "      <th>21</th>\n",
       "      <td>2016</td>\n",
       "      <td>Finding Dory</td>\n",
       "      <td>Action</td>\n",
       "      <td>PG</td>\n",
       "      <td>Walt Disney</td>\n",
       "      <td>486295561</td>\n",
       "      <td>514967322</td>\n",
       "      <td>56219140</td>\n",
       "    </tr>\n",
       "    <tr>\n",
       "      <th>22</th>\n",
       "      <td>2017</td>\n",
       "      <td>Star Wars Ep. VIII: The Last Jedi</td>\n",
       "      <td>Action</td>\n",
       "      <td>PG-13</td>\n",
       "      <td>Walt Disney</td>\n",
       "      <td>517218368</td>\n",
       "      <td>528173936</td>\n",
       "      <td>57660910</td>\n",
       "    </tr>\n",
       "    <tr>\n",
       "      <th>23</th>\n",
       "      <td>2018</td>\n",
       "      <td>Black Panther</td>\n",
       "      <td>Action</td>\n",
       "      <td>PG-13</td>\n",
       "      <td>Walt Disney</td>\n",
       "      <td>700059566</td>\n",
       "      <td>703901821</td>\n",
       "      <td>76845177</td>\n",
       "    </tr>\n",
       "    <tr>\n",
       "      <th>24</th>\n",
       "      <td>2019</td>\n",
       "      <td>Avengers: Endgame</td>\n",
       "      <td>Action</td>\n",
       "      <td>PG-13</td>\n",
       "      <td>Walt Disney</td>\n",
       "      <td>858373000</td>\n",
       "      <td>858373002</td>\n",
       "      <td>93708843</td>\n",
       "    </tr>\n",
       "    <tr>\n",
       "      <th>25</th>\n",
       "      <td>2020</td>\n",
       "      <td>Bad Boys For Life</td>\n",
       "      <td>Action</td>\n",
       "      <td>R</td>\n",
       "      <td>Sony Pictures</td>\n",
       "      <td>204417855</td>\n",
       "      <td>204417848</td>\n",
       "      <td>22316359</td>\n",
       "    </tr>\n",
       "    <tr>\n",
       "      <th>26</th>\n",
       "      <td>2021</td>\n",
       "      <td>Shang-Chi and the Legend of the Ten Rings</td>\n",
       "      <td>Action</td>\n",
       "      <td>PG-13</td>\n",
       "      <td>Walt Disney</td>\n",
       "      <td>224226704</td>\n",
       "      <td>224226704</td>\n",
       "      <td>24478897</td>\n",
       "    </tr>\n",
       "  </tbody>\n",
       "</table>\n",
       "</div>"
      ],
      "text/plain": [
       "    YEAR                                          MOVIE      GENRE  \\\n",
       "0   1995                                 Batman Forever      Drama   \n",
       "1   1996                               Independence Day  Adventure   \n",
       "2   1997                                   Men in Black  Adventure   \n",
       "3   1998                                        Titanic  Adventure   \n",
       "4   1999            Star Wars Ep. I: The Phantom Menace  Adventure   \n",
       "5   2000                 How the Grinch Stole Christmas  Adventure   \n",
       "6   2001          Harry Potter and the Sorcerer’s Stone  Adventure   \n",
       "7   2002                                     Spider-Man  Adventure   \n",
       "8   2003                                   Finding Nemo  Adventure   \n",
       "9   2004                                        Shrek 2  Adventure   \n",
       "10  2005         Star Wars Ep. III: Revenge of the Sith     Action   \n",
       "11  2006     Pirates of the Caribbean: Dead Man’s Chest     Action   \n",
       "12  2007                                   Spider-Man 3  Adventure   \n",
       "13  2008                                The Dark Knight  Adventure   \n",
       "14  2009            Transformers: Revenge of the Fallen     Action   \n",
       "15  2010                                    Toy Story 3     Action   \n",
       "16  2011  Harry Potter and the Deathly Hallows: Part II     Action   \n",
       "17  2012                                   The Avengers  Adventure   \n",
       "18  2013                                     Iron Man 3  Adventure   \n",
       "19  2014                        Guardians of the Galaxy  Adventure   \n",
       "20  2015           Star Wars Ep. VII: The Force Awakens     Action   \n",
       "21  2016                                   Finding Dory     Action   \n",
       "22  2017              Star Wars Ep. VIII: The Last Jedi     Action   \n",
       "23  2018                                  Black Panther     Action   \n",
       "24  2019                              Avengers: Endgame     Action   \n",
       "25  2020                              Bad Boys For Life     Action   \n",
       "26  2021      Shang-Chi and the Legend of the Ten Rings     Action   \n",
       "\n",
       "   MPAA RATING         DISTRIBUTOR  TOTAL BOX OFFICE FOR YEAR  \\\n",
       "0        PG-13        Warner Bros.                  184031112   \n",
       "1        PG-13    20th Century Fox                  306169255   \n",
       "2        PG-13       Sony Pictures                  250650052   \n",
       "3        PG-13  Paramount Pictures                  443319081   \n",
       "4           PG    20th Century Fox                  430443350   \n",
       "5           PG           Universal                  253367455   \n",
       "6           PG        Warner Bros.                  300404434   \n",
       "7        PG-13       Sony Pictures                  403706375   \n",
       "8            G         Walt Disney                  339714367   \n",
       "9           PG      Dreamworks SKG                  441226247   \n",
       "10       PG-13    20th Century Fox                  380270577   \n",
       "11       PG-13         Walt Disney                  423315812   \n",
       "12       PG-13       Sony Pictures                  336530303   \n",
       "13       PG-13        Warner Bros.                  531001578   \n",
       "14       PG-13  Paramount Pictures                  402111870   \n",
       "15           G         Walt Disney                  415004880   \n",
       "16       PG-13        Warner Bros.                  381011219   \n",
       "17       PG-13         Walt Disney                  623357910   \n",
       "18       PG-13         Walt Disney                  408992272   \n",
       "19       PG-13         Walt Disney                  333055258   \n",
       "20       PG-13         Walt Disney                  742208942   \n",
       "21          PG         Walt Disney                  486295561   \n",
       "22       PG-13         Walt Disney                  517218368   \n",
       "23       PG-13         Walt Disney                  700059566   \n",
       "24       PG-13         Walt Disney                  858373000   \n",
       "25           R       Sony Pictures                  204417855   \n",
       "26       PG-13         Walt Disney                  224226704   \n",
       "\n",
       "    TOTAL BOX OFFICE IN 2019 DOLLARS  TICKETS SOLD  \n",
       "0                          387552978      42306002  \n",
       "1                          634504608      69269062  \n",
       "2                          500207943      54607854  \n",
       "3                          865842808      94524324  \n",
       "4                          776153749      84732942  \n",
       "5                          430583644      47006948  \n",
       "6                          486166890      53074988  \n",
       "7                          636480273      69484746  \n",
       "8                          516050346      56337374  \n",
       "9                          650826473      71050925  \n",
       "10                         543413171      59324582  \n",
       "11                         591995851      64628368  \n",
       "12                         448054878      48914288  \n",
       "13                         677433772      73955652  \n",
       "14                         491112631      53614916  \n",
       "15                         481805411      52598844  \n",
       "16                         440108798      48046812  \n",
       "17                         717331462      78311295  \n",
       "18                         460808016      50306552  \n",
       "19                         373413235      40765637  \n",
       "20                         806480887      88043765  \n",
       "21                         514967322      56219140  \n",
       "22                         528173936      57660910  \n",
       "23                         703901821      76845177  \n",
       "24                         858373002      93708843  \n",
       "25                         204417848      22316359  \n",
       "26                         224226704      24478897  "
      ]
     },
     "execution_count": 56,
     "metadata": {},
     "output_type": "execute_result"
    }
   ],
   "source": [
    "#Displays first five rows of data\n",
    "df.head(27)"
   ]
  },
  {
   "cell_type": "code",
   "execution_count": 31,
   "id": "99d05eb5",
   "metadata": {},
   "outputs": [
    {
     "name": "stdout",
     "output_type": "stream",
     "text": [
      "YEAR                                 int32\n",
      "MOVIE                               object\n",
      "GENRE                               object\n",
      "MPAA RATING                         object\n",
      "DISTRIBUTOR                         object\n",
      "TOTAL BOX OFFICE FOR YEAR            int64\n",
      "TOTAL BOX OFFICE IN 2019 DOLLARS     int64\n",
      "TICKETS SOLD                         int32\n",
      "dtype: object\n"
     ]
    }
   ],
   "source": [
    "#Changes year and tickets sold to integer type from float and prints out the datatypes of all variables\n",
    "df[\"YEAR\"] = df[\"YEAR\"].astype(int)\n",
    "df[\"TICKETS SOLD\"] = df[\"TICKETS SOLD\"].astype(int)\n",
    "print(df.dtypes)"
   ]
  },
  {
   "cell_type": "code",
   "execution_count": 32,
   "id": "f5384231",
   "metadata": {},
   "outputs": [
    {
     "name": "stdout",
     "output_type": "stream",
     "text": [
      "0     2\n",
      "1     2\n",
      "2     2\n",
      "3     2\n",
      "4     1\n",
      "5     1\n",
      "6     1\n",
      "7     2\n",
      "8     0\n",
      "9     1\n",
      "10    2\n",
      "11    2\n",
      "12    2\n",
      "13    2\n",
      "14    2\n",
      "15    0\n",
      "16    2\n",
      "17    2\n",
      "18    2\n",
      "19    2\n",
      "20    2\n",
      "21    1\n",
      "22    2\n",
      "23    2\n",
      "24    2\n",
      "25    3\n",
      "26    2\n",
      "Name: MPAA RATING, dtype: int64\n"
     ]
    }
   ],
   "source": [
    "#Label encoding for MPAA Rating to convert it from a categorical variable to a numerical one (where G is 0 and R is 3)\n",
    "rating_map = {\"G\":0, \"PG\": 1, \"PG-13\": 2, \"R\":3}\n",
    "df[\"MPAA RATING\"] = df[\"MPAA RATING\"].map(rating_map)\n",
    "print(df[\"MPAA RATING\"])"
   ]
  },
  {
   "cell_type": "code",
   "execution_count": 8,
   "id": "9f42dfe4",
   "metadata": {},
   "outputs": [
    {
     "data": {
      "text/html": [
       "<div>\n",
       "<style scoped>\n",
       "    .dataframe tbody tr th:only-of-type {\n",
       "        vertical-align: middle;\n",
       "    }\n",
       "\n",
       "    .dataframe tbody tr th {\n",
       "        vertical-align: top;\n",
       "    }\n",
       "\n",
       "    .dataframe thead th {\n",
       "        text-align: right;\n",
       "    }\n",
       "</style>\n",
       "<table border=\"1\" class=\"dataframe\">\n",
       "  <thead>\n",
       "    <tr style=\"text-align: right;\">\n",
       "      <th></th>\n",
       "      <th>YEAR</th>\n",
       "      <th>MPAA RATING</th>\n",
       "      <th>TOTAL BOX OFFICE FOR YEAR</th>\n",
       "      <th>TOTAL BOX OFFICE IN 2019 DOLLARS</th>\n",
       "      <th>TICKETS SOLD</th>\n",
       "    </tr>\n",
       "  </thead>\n",
       "  <tbody>\n",
       "    <tr>\n",
       "      <th>count</th>\n",
       "      <td>27.000000</td>\n",
       "      <td>27.000000</td>\n",
       "      <td>2.700000e+01</td>\n",
       "      <td>2.700000e+01</td>\n",
       "      <td>2.700000e+01</td>\n",
       "    </tr>\n",
       "    <tr>\n",
       "      <th>mean</th>\n",
       "      <td>2008.000000</td>\n",
       "      <td>1.703704</td>\n",
       "      <td>4.192772e+08</td>\n",
       "      <td>5.537181e+08</td>\n",
       "      <td>6.044945e+07</td>\n",
       "    </tr>\n",
       "    <tr>\n",
       "      <th>std</th>\n",
       "      <td>7.937254</td>\n",
       "      <td>0.668800</td>\n",
       "      <td>1.631468e+08</td>\n",
       "      <td>1.699845e+08</td>\n",
       "      <td>1.855738e+07</td>\n",
       "    </tr>\n",
       "    <tr>\n",
       "      <th>min</th>\n",
       "      <td>1995.000000</td>\n",
       "      <td>0.000000</td>\n",
       "      <td>1.840311e+08</td>\n",
       "      <td>2.044178e+08</td>\n",
       "      <td>2.231636e+07</td>\n",
       "    </tr>\n",
       "    <tr>\n",
       "      <th>25%</th>\n",
       "      <td>2001.500000</td>\n",
       "      <td>1.500000</td>\n",
       "      <td>3.196123e+08</td>\n",
       "      <td>4.544314e+08</td>\n",
       "      <td>4.961042e+07</td>\n",
       "    </tr>\n",
       "    <tr>\n",
       "      <th>50%</th>\n",
       "      <td>2008.000000</td>\n",
       "      <td>2.000000</td>\n",
       "      <td>4.037064e+08</td>\n",
       "      <td>5.160503e+08</td>\n",
       "      <td>5.633737e+07</td>\n",
       "    </tr>\n",
       "    <tr>\n",
       "      <th>75%</th>\n",
       "      <td>2014.500000</td>\n",
       "      <td>2.000000</td>\n",
       "      <td>4.648073e+08</td>\n",
       "      <td>6.641301e+08</td>\n",
       "      <td>7.250329e+07</td>\n",
       "    </tr>\n",
       "    <tr>\n",
       "      <th>max</th>\n",
       "      <td>2021.000000</td>\n",
       "      <td>3.000000</td>\n",
       "      <td>8.583730e+08</td>\n",
       "      <td>8.658428e+08</td>\n",
       "      <td>9.452432e+07</td>\n",
       "    </tr>\n",
       "  </tbody>\n",
       "</table>\n",
       "</div>"
      ],
      "text/plain": [
       "              YEAR  MPAA RATING  TOTAL BOX OFFICE FOR YEAR  \\\n",
       "count    27.000000    27.000000               2.700000e+01   \n",
       "mean   2008.000000     1.703704               4.192772e+08   \n",
       "std       7.937254     0.668800               1.631468e+08   \n",
       "min    1995.000000     0.000000               1.840311e+08   \n",
       "25%    2001.500000     1.500000               3.196123e+08   \n",
       "50%    2008.000000     2.000000               4.037064e+08   \n",
       "75%    2014.500000     2.000000               4.648073e+08   \n",
       "max    2021.000000     3.000000               8.583730e+08   \n",
       "\n",
       "       TOTAL BOX OFFICE IN 2019 DOLLARS  TICKETS SOLD  \n",
       "count                      2.700000e+01  2.700000e+01  \n",
       "mean                       5.537181e+08  6.044945e+07  \n",
       "std                        1.699845e+08  1.855738e+07  \n",
       "min                        2.044178e+08  2.231636e+07  \n",
       "25%                        4.544314e+08  4.961042e+07  \n",
       "50%                        5.160503e+08  5.633737e+07  \n",
       "75%                        6.641301e+08  7.250329e+07  \n",
       "max                        8.658428e+08  9.452432e+07  "
      ]
     },
     "execution_count": 8,
     "metadata": {},
     "output_type": "execute_result"
    }
   ],
   "source": [
    "#Summary statistics of dataset\n",
    "df.describe()"
   ]
  },
  {
   "cell_type": "code",
   "execution_count": 9,
   "id": "7b3e552b",
   "metadata": {},
   "outputs": [
    {
     "data": {
      "image/png": "[encoded data removed]",
      "text/plain": [
       "<Figure size 720x432 with 1 Axes>"
      ]
     },
     "metadata": {
      "needs_background": "light"
     },
     "output_type": "display_data"
    }
   ],
   "source": [
    "#Line Graph of ticket sales vs the year the film released\n",
    "plt.figure(figsize=(10,6))\n",
    "sns.regplot(x=\"YEAR\", y=\"TICKETS SOLD\", data=df)\n",
    "plt.title(\"Tickets Sales for the Most Popular Films Each Year From 1995 to 2021\")\n",
    "plt.xlabel(\"Year Film Released\")\n",
    "plt.ylabel(\"Tickets Sales\")\n",
    "plt.show()"
   ]
  },
  {
   "cell_type": "code",
   "execution_count": 10,
   "id": "641061a2",
   "metadata": {},
   "outputs": [
    {
     "data": {
      "image/png": "[encoded data removed]",
      "text/plain": [
       "<Figure size 720x432 with 1 Axes>"
      ]
     },
     "metadata": {
      "needs_background": "light"
     },
     "output_type": "display_data"
    }
   ],
   "source": [
    "#Line Graph of tickets sold vs. total box office in 2019 dollars (accounting for inflation)\n",
    "plt.figure(figsize=(10, 6))\n",
    "sns.scatterplot(x='TOTAL BOX OFFICE IN 2019 DOLLARS', y='TICKETS SOLD', data=df)\n",
    "plt.title('Tickets Sold vs. Total Box Office in 2019 Dollars')\n",
    "plt.xlabel('Total Box Office in 2019 Dollars')\n",
    "plt.ylabel('Tickets Sold')\n",
    "plt.show()\n",
    "#Shows almost a fully linear relationship"
   ]
  },
  {
   "cell_type": "code",
   "execution_count": 11,
   "id": "b2940464",
   "metadata": {},
   "outputs": [
    {
     "data": {
      "image/png": "[encoded data removed]",
      "text/plain": [
       "<Figure size 720x432 with 1 Axes>"
      ]
     },
     "metadata": {
      "needs_background": "light"
     },
     "output_type": "display_data"
    }
   ],
   "source": [
    "#Histogram of Ticket Sales vs. the Genre of Film\n",
    "plt.figure(figsize=(10,6))\n",
    "sns.boxplot(x=\"GENRE\", y=\"TICKETS SOLD\", data=df)\n",
    "plt.xlabel(\"Genre of Film\")\n",
    "plt.ylabel(\"Ticket Sales ($)\")\n",
    "plt.title(\"Ticket Sales for Popular Genres\")\n",
    "plt.show()"
   ]
  },
  {
   "cell_type": "code",
   "execution_count": 12,
   "id": "7e49c876",
   "metadata": {},
   "outputs": [
    {
     "data": {
      "text/plain": [
       "Text(0.5, 1.0, 'Ticket Sales for Popular Film Distributors')"
      ]
     },
     "execution_count": 12,
     "metadata": {},
     "output_type": "execute_result"
    },
    {
     "data": {
      "image/png": "[encoded data removed]",
      "text/plain": [
       "<Figure size 936x432 with 1 Axes>"
      ]
     },
     "metadata": {
      "needs_background": "light"
     },
     "output_type": "display_data"
    }
   ],
   "source": [
    "#Histogram of Ticket Sales vs. Distributor of Popular Film\n",
    "plt.figure(figsize=(13,6))\n",
    "sns.boxplot(x=\"DISTRIBUTOR\", y=\"TICKETS SOLD\", data=df)\n",
    "plt.xlabel(\"Distributor of Popular Film\")\n",
    "plt.ylabel(\"Ticket Sales ($)\")\n",
    "plt.title(\"Ticket Sales for Popular Film Distributors\")"
   ]
  },
  {
   "cell_type": "code",
   "execution_count": 57,
   "id": "0c847014",
   "metadata": {},
   "outputs": [
    {
     "data": {
      "image/png": "[encoded data removed]",
      "text/plain": [
       "<Figure size 720x864 with 1 Axes>"
      ]
     },
     "metadata": {
      "needs_background": "light"
     },
     "output_type": "display_data"
    }
   ],
   "source": [
    "#Bar graph of Tickets Sold for Various MPAA Ratings\n",
    "df_rating = df.groupby(\"MPAA RATING\", as_index=False)[\"TICKETS SOLD\"].mean()\n",
    "plt.figure(figsize=(10,12))\n",
    "sns.barplot(data=df_rating, x=\"MPAA RATING\", y=\"TICKETS SOLD\")\n",
    "plt.xlabel(\"MPAA Rating\")\n",
    "plt.ylabel(\"Tickets Sold\")\n",
    "plt.title(\"Tickets Sold for Various MPAA Ratings\")\n",
    "plt.show()"
   ]
  },
  {
   "cell_type": "code",
   "execution_count": 58,
   "id": "65448e04",
   "metadata": {},
   "outputs": [
    {
     "data": {
      "image/png": "[encoded data removed]",
      "text/plain": [
       "<Figure size 720x720 with 1 Axes>"
      ]
     },
     "metadata": {
      "needs_background": "light"
     },
     "output_type": "display_data"
    }
   ],
   "source": [
    "#Bubble Plot depicting MPAA Rating's Effect on Ticket Sales of Highest Grossing Films Throughout Time\n",
    "df.groupby(\"YEAR\")[\"TICKETS SOLD\"].mean()\n",
    "size = df[\"MPAA RATING\"]\n",
    "plt.figure(figsize=(10,10))\n",
    "sns.scatterplot(data=df, x=\"YEAR\", y=\"TICKETS SOLD\", size=size, hue=\"MPAA RATING\")\n",
    "plt.xlabel(\"Year\")\n",
    "plt.ylabel(\"Tickets Sold\")\n",
    "plt.title(\"MPAA Rating's Effect on Ticket Sales of the Highest Grossing Films Throughout Time\")\n",
    "plt.show()"
   ]
  },
  {
   "cell_type": "code",
   "execution_count": 13,
   "id": "a45603f1",
   "metadata": {},
   "outputs": [
    {
     "data": {
      "text/plain": [
       "YEAR                               -0.181127\n",
       "MPAA RATING                        -0.074515\n",
       "TOTAL BOX OFFICE FOR YEAR           0.765273\n",
       "TOTAL BOX OFFICE IN 2019 DOLLARS    1.000000\n",
       "TICKETS SOLD                        1.000000\n",
       "Name: TICKETS SOLD, dtype: float64"
      ]
     },
     "execution_count": 13,
     "metadata": {},
     "output_type": "execute_result"
    }
   ],
   "source": [
    "#Correlations between all predictor and target variables and the Tickets Sold variable\n",
    "df.corr()[\"TICKETS SOLD\"].sort_values()"
   ]
  },
  {
   "cell_type": "code",
   "execution_count": 14,
   "id": "6886673d",
   "metadata": {},
   "outputs": [
    {
     "name": "stdout",
     "output_type": "stream",
     "text": [
      "Linear Regression: \n",
      "The R squared value is  0.9999999916214821 and the root mean squared error is  1091.678471624138\n"
     ]
    },
    {
     "name": "stderr",
     "output_type": "stream",
     "text": [
      "C:\\Users\\jpanc\\AppData\\Roaming\\Python\\Python39\\site-packages\\sklearn\\metrics\\_regression.py:483: FutureWarning: 'squared' is deprecated in version 1.4 and will be removed in 1.6. To calculate the root mean squared error, use the function'root_mean_squared_error'.\n",
      "  warnings.warn(\n"
     ]
    }
   ],
   "source": [
    "#Linear Regression model is fit to this dataset and the R^2 value of this model is displayed\n",
    "x = df[[\"YEAR\", \"MPAA RATING\", \"TOTAL BOX OFFICE IN 2019 DOLLARS\"]]\n",
    "y = df[\"TICKETS SOLD\"]\n",
    "lr = LinearRegression()\n",
    "x_train, x_test, y_train, y_test = train_test_split(x,y,test_size=0.3, random_state=42)\n",
    "lr.fit(x_train, y_train)\n",
    "r2_score_lr = lr.score(x_test, y_test)\n",
    "y_pred_lr = lr.predict(x_test)\n",
    "root_mean_squared_lr = mean_squared_error(y_test, y_pred_lr, squared=False)\n",
    "print(\"Linear Regression: \")\n",
    "print(\"The R squared value is \", r2_score_lr, \"and the root mean squared error is \", root_mean_squared_lr)"
   ]
  },
  {
   "cell_type": "code",
   "execution_count": 15,
   "id": "4a11f2df",
   "metadata": {},
   "outputs": [
    {
     "name": "stdout",
     "output_type": "stream",
     "text": [
      "Coefficients:  [-0.00465089  0.02133498  0.10917031]\n"
     ]
    }
   ],
   "source": [
    "#Coefficients from linear regression equation for each of the predictor variables is displayed\n",
    "print(\"Coefficients: \", lr.coef_)"
   ]
  },
  {
   "cell_type": "code",
   "execution_count": 29,
   "id": "2e6b2bbd",
   "metadata": {},
   "outputs": [
    {
     "name": "stdout",
     "output_type": "stream",
     "text": [
      "Polynomial Regression (order of 2):\n",
      "The R squared value is  0.9999999916224385 and the root mean squared error is  1091.6161661432484\n"
     ]
    },
    {
     "name": "stderr",
     "output_type": "stream",
     "text": [
      "C:\\Users\\jpanc\\AppData\\Roaming\\Python\\Python39\\site-packages\\sklearn\\metrics\\_regression.py:483: FutureWarning: 'squared' is deprecated in version 1.4 and will be removed in 1.6. To calculate the root mean squared error, use the function'root_mean_squared_error'.\n",
      "  warnings.warn(\n"
     ]
    }
   ],
   "source": [
    "#Polynomial Regression model (degree of 2) fitting dataset using a Pipeline programming object\n",
    "pipeline = Pipeline([(\"scale\", StandardScaler()), (\"polynomial\", PolynomialFeatures(degree=2)), (\"model\", LinearRegression())])\n",
    "pipeline.fit(x_train, y_train)\n",
    "y_pred_poly = pipeline.predict(x_test)\n",
    "rmse_poly = mean_squared_error(y_test, y_pred_poly, squared=False)\n",
    "print(\"Polynomial Regression (order of 2):\")\n",
    "print(\"The R squared value is \", pipeline.score(x_test,y_test), \"and the root mean squared error is \", rmse_poly)"
   ]
  },
  {
   "cell_type": "code",
   "execution_count": 16,
   "id": "9f25e1e3",
   "metadata": {},
   "outputs": [
    {
     "name": "stdout",
     "output_type": "stream",
     "text": [
      "Ridge(alpha=0.0001)\n",
      "0.9999999916214821\n"
     ]
    },
    {
     "name": "stderr",
     "output_type": "stream",
     "text": [
      "C:\\Users\\jpanc\\AppData\\Roaming\\Python\\Python39\\site-packages\\sklearn\\linear_model\\_ridge.py:204: LinAlgWarning: Ill-conditioned matrix (rcond=1.114e-17): result may not be accurate.\n",
      "  return linalg.solve(A, Xy, assume_a=\"pos\", overwrite_a=True).T\n",
      "C:\\Users\\jpanc\\AppData\\Roaming\\Python\\Python39\\site-packages\\sklearn\\linear_model\\_ridge.py:204: LinAlgWarning: Ill-conditioned matrix (rcond=3.82865e-18): result may not be accurate.\n",
      "  return linalg.solve(A, Xy, assume_a=\"pos\", overwrite_a=True).T\n",
      "C:\\Users\\jpanc\\AppData\\Roaming\\Python\\Python39\\site-packages\\sklearn\\linear_model\\_ridge.py:204: LinAlgWarning: Ill-conditioned matrix (rcond=1.34747e-17): result may not be accurate.\n",
      "  return linalg.solve(A, Xy, assume_a=\"pos\", overwrite_a=True).T\n",
      "C:\\Users\\jpanc\\AppData\\Roaming\\Python\\Python39\\site-packages\\sklearn\\linear_model\\_ridge.py:204: LinAlgWarning: Ill-conditioned matrix (rcond=1.01546e-17): result may not be accurate.\n",
      "  return linalg.solve(A, Xy, assume_a=\"pos\", overwrite_a=True).T\n",
      "C:\\Users\\jpanc\\AppData\\Roaming\\Python\\Python39\\site-packages\\sklearn\\linear_model\\_ridge.py:204: LinAlgWarning: Ill-conditioned matrix (rcond=9.56368e-18): result may not be accurate.\n",
      "  return linalg.solve(A, Xy, assume_a=\"pos\", overwrite_a=True).T\n",
      "C:\\Users\\jpanc\\AppData\\Roaming\\Python\\Python39\\site-packages\\sklearn\\linear_model\\_ridge.py:204: LinAlgWarning: Ill-conditioned matrix (rcond=1.11419e-17): result may not be accurate.\n",
      "  return linalg.solve(A, Xy, assume_a=\"pos\", overwrite_a=True).T\n",
      "C:\\Users\\jpanc\\AppData\\Roaming\\Python\\Python39\\site-packages\\sklearn\\linear_model\\_ridge.py:204: LinAlgWarning: Ill-conditioned matrix (rcond=3.83027e-18): result may not be accurate.\n",
      "  return linalg.solve(A, Xy, assume_a=\"pos\", overwrite_a=True).T\n",
      "C:\\Users\\jpanc\\AppData\\Roaming\\Python\\Python39\\site-packages\\sklearn\\linear_model\\_ridge.py:204: LinAlgWarning: Ill-conditioned matrix (rcond=1.34773e-17): result may not be accurate.\n",
      "  return linalg.solve(A, Xy, assume_a=\"pos\", overwrite_a=True).T\n",
      "C:\\Users\\jpanc\\AppData\\Roaming\\Python\\Python39\\site-packages\\sklearn\\linear_model\\_ridge.py:204: LinAlgWarning: Ill-conditioned matrix (rcond=1.01561e-17): result may not be accurate.\n",
      "  return linalg.solve(A, Xy, assume_a=\"pos\", overwrite_a=True).T\n",
      "C:\\Users\\jpanc\\AppData\\Roaming\\Python\\Python39\\site-packages\\sklearn\\linear_model\\_ridge.py:204: LinAlgWarning: Ill-conditioned matrix (rcond=9.56516e-18): result may not be accurate.\n",
      "  return linalg.solve(A, Xy, assume_a=\"pos\", overwrite_a=True).T\n",
      "C:\\Users\\jpanc\\AppData\\Roaming\\Python\\Python39\\site-packages\\sklearn\\linear_model\\_ridge.py:204: LinAlgWarning: Ill-conditioned matrix (rcond=1.11608e-17): result may not be accurate.\n",
      "  return linalg.solve(A, Xy, assume_a=\"pos\", overwrite_a=True).T\n",
      "C:\\Users\\jpanc\\AppData\\Roaming\\Python\\Python39\\site-packages\\sklearn\\linear_model\\_ridge.py:204: LinAlgWarning: Ill-conditioned matrix (rcond=3.84647e-18): result may not be accurate.\n",
      "  return linalg.solve(A, Xy, assume_a=\"pos\", overwrite_a=True).T\n",
      "C:\\Users\\jpanc\\AppData\\Roaming\\Python\\Python39\\site-packages\\sklearn\\linear_model\\_ridge.py:204: LinAlgWarning: Ill-conditioned matrix (rcond=1.35027e-17): result may not be accurate.\n",
      "  return linalg.solve(A, Xy, assume_a=\"pos\", overwrite_a=True).T\n",
      "C:\\Users\\jpanc\\AppData\\Roaming\\Python\\Python39\\site-packages\\sklearn\\linear_model\\_ridge.py:204: LinAlgWarning: Ill-conditioned matrix (rcond=1.01716e-17): result may not be accurate.\n",
      "  return linalg.solve(A, Xy, assume_a=\"pos\", overwrite_a=True).T\n",
      "C:\\Users\\jpanc\\AppData\\Roaming\\Python\\Python39\\site-packages\\sklearn\\linear_model\\_ridge.py:204: LinAlgWarning: Ill-conditioned matrix (rcond=9.58e-18): result may not be accurate.\n",
      "  return linalg.solve(A, Xy, assume_a=\"pos\", overwrite_a=True).T\n",
      "C:\\Users\\jpanc\\AppData\\Roaming\\Python\\Python39\\site-packages\\sklearn\\linear_model\\_ridge.py:204: LinAlgWarning: Ill-conditioned matrix (rcond=1.13502e-17): result may not be accurate.\n",
      "  return linalg.solve(A, Xy, assume_a=\"pos\", overwrite_a=True).T\n",
      "C:\\Users\\jpanc\\AppData\\Roaming\\Python\\Python39\\site-packages\\sklearn\\linear_model\\_ridge.py:204: LinAlgWarning: Ill-conditioned matrix (rcond=4.00849e-18): result may not be accurate.\n",
      "  return linalg.solve(A, Xy, assume_a=\"pos\", overwrite_a=True).T\n",
      "C:\\Users\\jpanc\\AppData\\Roaming\\Python\\Python39\\site-packages\\sklearn\\linear_model\\_ridge.py:204: LinAlgWarning: Ill-conditioned matrix (rcond=1.37566e-17): result may not be accurate.\n",
      "  return linalg.solve(A, Xy, assume_a=\"pos\", overwrite_a=True).T\n",
      "C:\\Users\\jpanc\\AppData\\Roaming\\Python\\Python39\\site-packages\\sklearn\\linear_model\\_ridge.py:204: LinAlgWarning: Ill-conditioned matrix (rcond=1.0326e-17): result may not be accurate.\n",
      "  return linalg.solve(A, Xy, assume_a=\"pos\", overwrite_a=True).T\n",
      "C:\\Users\\jpanc\\AppData\\Roaming\\Python\\Python39\\site-packages\\sklearn\\linear_model\\_ridge.py:204: LinAlgWarning: Ill-conditioned matrix (rcond=9.72834e-18): result may not be accurate.\n",
      "  return linalg.solve(A, Xy, assume_a=\"pos\", overwrite_a=True).T\n",
      "C:\\Users\\jpanc\\AppData\\Roaming\\Python\\Python39\\site-packages\\sklearn\\linear_model\\_ridge.py:204: LinAlgWarning: Ill-conditioned matrix (rcond=1.32438e-17): result may not be accurate.\n",
      "  return linalg.solve(A, Xy, assume_a=\"pos\", overwrite_a=True).T\n",
      "C:\\Users\\jpanc\\AppData\\Roaming\\Python\\Python39\\site-packages\\sklearn\\linear_model\\_ridge.py:204: LinAlgWarning: Ill-conditioned matrix (rcond=5.62871e-18): result may not be accurate.\n",
      "  return linalg.solve(A, Xy, assume_a=\"pos\", overwrite_a=True).T\n",
      "C:\\Users\\jpanc\\AppData\\Roaming\\Python\\Python39\\site-packages\\sklearn\\linear_model\\_ridge.py:204: LinAlgWarning: Ill-conditioned matrix (rcond=1.62962e-17): result may not be accurate.\n",
      "  return linalg.solve(A, Xy, assume_a=\"pos\", overwrite_a=True).T\n",
      "C:\\Users\\jpanc\\AppData\\Roaming\\Python\\Python39\\site-packages\\sklearn\\linear_model\\_ridge.py:204: LinAlgWarning: Ill-conditioned matrix (rcond=1.18706e-17): result may not be accurate.\n",
      "  return linalg.solve(A, Xy, assume_a=\"pos\", overwrite_a=True).T\n",
      "C:\\Users\\jpanc\\AppData\\Roaming\\Python\\Python39\\site-packages\\sklearn\\linear_model\\_ridge.py:204: LinAlgWarning: Ill-conditioned matrix (rcond=1.12118e-17): result may not be accurate.\n",
      "  return linalg.solve(A, Xy, assume_a=\"pos\", overwrite_a=True).T\n",
      "C:\\Users\\jpanc\\AppData\\Roaming\\Python\\Python39\\site-packages\\sklearn\\linear_model\\_ridge.py:204: LinAlgWarning: Ill-conditioned matrix (rcond=3.21848e-17): result may not be accurate.\n",
      "  return linalg.solve(A, Xy, assume_a=\"pos\", overwrite_a=True).T\n",
      "C:\\Users\\jpanc\\AppData\\Roaming\\Python\\Python39\\site-packages\\sklearn\\linear_model\\_ridge.py:204: LinAlgWarning: Ill-conditioned matrix (rcond=2.18367e-17): result may not be accurate.\n",
      "  return linalg.solve(A, Xy, assume_a=\"pos\", overwrite_a=True).T\n",
      "C:\\Users\\jpanc\\AppData\\Roaming\\Python\\Python39\\site-packages\\sklearn\\linear_model\\_ridge.py:204: LinAlgWarning: Ill-conditioned matrix (rcond=4.16948e-17): result may not be accurate.\n",
      "  return linalg.solve(A, Xy, assume_a=\"pos\", overwrite_a=True).T\n",
      "C:\\Users\\jpanc\\AppData\\Roaming\\Python\\Python39\\site-packages\\sklearn\\linear_model\\_ridge.py:204: LinAlgWarning: Ill-conditioned matrix (rcond=2.73202e-17): result may not be accurate.\n",
      "  return linalg.solve(A, Xy, assume_a=\"pos\", overwrite_a=True).T\n",
      "C:\\Users\\jpanc\\AppData\\Roaming\\Python\\Python39\\site-packages\\sklearn\\linear_model\\_ridge.py:204: LinAlgWarning: Ill-conditioned matrix (rcond=2.60487e-17): result may not be accurate.\n",
      "  return linalg.solve(A, Xy, assume_a=\"pos\", overwrite_a=True).T\n",
      "C:\\Users\\jpanc\\AppData\\Roaming\\Python\\Python39\\site-packages\\sklearn\\linear_model\\_ridge.py:204: LinAlgWarning: Ill-conditioned matrix (rcond=9.437e-18): result may not be accurate.\n",
      "  return linalg.solve(A, Xy, assume_a=\"pos\", overwrite_a=True).T\n"
     ]
    }
   ],
   "source": [
    "#The optimal alpha value for a Ridge Regression Model is found using the GridSearchCV() method\n",
    "parameters1 = [{\"alpha\": [0.0001, 0.001, 0.01, 0.1, 1, 10]}]\n",
    "ridge = Ridge()\n",
    "Grid1 = GridSearchCV(ridge, parameters1, cv=5)\n",
    "Grid1.fit(x_train, y_train)\n",
    "best = Grid1.best_estimator_\n",
    "print(best)\n",
    "print(best.score(x_test, y_test))"
   ]
  },
  {
   "cell_type": "code",
   "execution_count": 17,
   "id": "e2d60346",
   "metadata": {},
   "outputs": [
    {
     "name": "stdout",
     "output_type": "stream",
     "text": [
      "Ridge Regression:\n",
      "The R squared value is  0.9999999916214821 and the  Root Mean Squared Error is  1091.678470948548\n"
     ]
    },
    {
     "name": "stderr",
     "output_type": "stream",
     "text": [
      "C:\\Users\\jpanc\\AppData\\Roaming\\Python\\Python39\\site-packages\\sklearn\\linear_model\\_ridge.py:204: LinAlgWarning: Ill-conditioned matrix (rcond=9.43836e-18): result may not be accurate.\n",
      "  return linalg.solve(A, Xy, assume_a=\"pos\", overwrite_a=True).T\n",
      "C:\\Users\\jpanc\\AppData\\Roaming\\Python\\Python39\\site-packages\\sklearn\\metrics\\_regression.py:483: FutureWarning: 'squared' is deprecated in version 1.4 and will be removed in 1.6. To calculate the root mean squared error, use the function'root_mean_squared_error'.\n",
      "  warnings.warn(\n"
     ]
    }
   ],
   "source": [
    "#Ridge Regression model is fit to this dataset and the R^2 value of this model is displayed\n",
    "ridge1 = Ridge(alpha=0.001)\n",
    "ridge1.fit(x_train, y_train)\n",
    "y_pred_ridge = ridge1.predict(x_test)\n",
    "ridge_rmse = mean_squared_error(y_test, y_pred_ridge, squared=False)\n",
    "ridge_r2 = ridge1.score(x_test, y_test)\n",
    "print(\"Ridge Regression:\")\n",
    "print(\"The R squared value is \", ridge_r2, \"and the  Root Mean Squared Error is \", ridge_rmse)"
   ]
  },
  {
   "cell_type": "code",
   "execution_count": 18,
   "id": "8ec03e73",
   "metadata": {
    "scrolled": true
   },
   "outputs": [
    {
     "name": "stdout",
     "output_type": "stream",
     "text": [
      "Lasso Regression: \n",
      "The R squared value is  0.9999999916218745 and the root mean squared error is  1091.6529071631687\n"
     ]
    },
    {
     "name": "stderr",
     "output_type": "stream",
     "text": [
      "C:\\Users\\jpanc\\AppData\\Roaming\\Python\\Python39\\site-packages\\sklearn\\metrics\\_regression.py:483: FutureWarning: 'squared' is deprecated in version 1.4 and will be removed in 1.6. To calculate the root mean squared error, use the function'root_mean_squared_error'.\n",
      "  warnings.warn(\n"
     ]
    }
   ],
   "source": [
    "#Lasso Regression model is fit to this dataset and the R^2 value of this model is displayed\n",
    "lasso = Lasso()\n",
    "lasso.fit(x_train, y_train)\n",
    "y_pred_lasso = lasso.predict(x_test)\n",
    "r2_score_lasso = lasso.score(x_test, y_test)\n",
    "rmse_lasso = mean_squared_error(y_test, y_pred_lasso, squared=False)\n",
    "print(\"Lasso Regression: \")\n",
    "print(\"The R squared value is \", r2_score_lasso, \"and the root mean squared error is \", rmse_lasso)"
   ]
  },
  {
   "cell_type": "code",
   "execution_count": 19,
   "id": "f70c86c6",
   "metadata": {},
   "outputs": [
    {
     "data": {
      "image/png": "[encoded data removed]",
      "text/plain": [
       "<Figure size 720x432 with 1 Axes>"
      ]
     },
     "metadata": {
      "needs_background": "light"
     },
     "output_type": "display_data"
    }
   ],
   "source": [
    "#Graph of Actual Values vs. Predicted Values (generated by the Linear Regression Model)\n",
    "plt.figure(figsize=(10,6))\n",
    "plt.scatter(y_test, y_pred_lr, color=\"blue\", label=\"Linear Regression\")\n",
    "plt.xlabel(\"Actual Values\")\n",
    "plt.ylabel(\"Predicted Values\")\n",
    "plt.title(\"Linear Regression: Actual vs Predicted Values\")\n",
    "plt.legend()\n",
    "plt.show()"
   ]
  },
  {
   "cell_type": "code",
   "execution_count": 31,
   "id": "040ebf55",
   "metadata": {},
   "outputs": [
    {
     "data": {
      "image/png": "[encoded data removed]",
      "text/plain": [
       "<Figure size 720x432 with 1 Axes>"
      ]
     },
     "metadata": {
      "needs_background": "light"
     },
     "output_type": "display_data"
    }
   ],
   "source": [
    "#Graph of Actual vs. Predicted Values (generated by the Lasso Regression model)\n",
    "plt.figure(figsize=(10,6))\n",
    "plt.scatter(y_test, y_pred_poly, color=\"yellow\", label=\"Polynomial Regression\")\n",
    "plt.xlabel(\"Actual Values\")\n",
    "plt.ylabel(\"Predicted Values\")\n",
    "plt.title(\"Polynomial Regression: Actual vs Predicted Values\")\n",
    "plt.legend()\n",
    "plt.show()"
   ]
  },
  {
   "cell_type": "code",
   "execution_count": 20,
   "id": "84d7ebb9",
   "metadata": {},
   "outputs": [
    {
     "data": {
      "image/png": "[encoded data removed]",
      "text/plain": [
       "<Figure size 720x432 with 1 Axes>"
      ]
     },
     "metadata": {
      "needs_background": "light"
     },
     "output_type": "display_data"
    }
   ],
   "source": [
    "#Graph of Actual vs. Predicted Values (generated by the Ridge Regression model)\n",
    "plt.figure(figsize=(10,6))\n",
    "plt.scatter(y_test, y_pred_ridge, color=\"red\", label=\"Ridge Regression\")\n",
    "plt.xlabel(\"Actual Values\")\n",
    "plt.ylabel(\"Predicted Values\")\n",
    "plt.title(\"Ridge Regression: Actual vs Predicted Values\")\n",
    "plt.legend()\n",
    "plt.show()"
   ]
  },
  {
   "cell_type": "code",
   "execution_count": 21,
   "id": "da926cc4",
   "metadata": {},
   "outputs": [
    {
     "data": {
      "image/png": "[encoded data removed]",
      "text/plain": [
       "<Figure size 720x432 with 1 Axes>"
      ]
     },
     "metadata": {
      "needs_background": "light"
     },
     "output_type": "display_data"
    }
   ],
   "source": [
    "#Graph of Actual vs. Predicted Values (generated by the Lasso Regression model)\n",
    "plt.figure(figsize=(10,6))\n",
    "plt.scatter(y_test, y_pred_lasso, color=\"green\", label=\"Lasso Regression\")\n",
    "plt.xlabel(\"Actual Values\")\n",
    "plt.ylabel(\"Predicted Values\")\n",
    "plt.title(\"Lasso Regression: Actual vs Predicted Values\")\n",
    "plt.legend()\n",
    "plt.show()"
   ]
  },
  {
   "cell_type": "code",
   "execution_count": 22,
   "id": "b981cac2",
   "metadata": {},
   "outputs": [],
   "source": [
    "#Finds r-squared values for various orders using the PolynomialFeatures() method\n",
    "Rsqu_test = []\n",
    "order = [1,2,3,4]\n",
    "\n",
    "for n in order:\n",
    "    pr = PolynomialFeatures(degree=n)\n",
    "    x_train_pr = pr.fit_transform(x_train)\n",
    "    x_test_pr = pr.fit_transform(x_test)\n",
    "    lr.fit(x_train_pr, y_train)\n",
    "    Rsqu_test.append(lr.score(x_test_pr, y_test))"
   ]
  },
  {
   "cell_type": "code",
   "execution_count": 23,
   "id": "eec30c0e",
   "metadata": {},
   "outputs": [
    {
     "data": {
      "text/plain": [
       "Text(0.5, 1.0, 'R-squared values using test data')"
      ]
     },
     "execution_count": 23,
     "metadata": {},
     "output_type": "execute_result"
    },
    {
     "data": {
      "image/png": "[encoded data removed]",
      "text/plain": [
       "<Figure size 432x288 with 1 Axes>"
      ]
     },
     "metadata": {
      "needs_background": "light"
     },
     "output_type": "display_data"
    }
   ],
   "source": [
    "#Graph of R-squared values for various orders\n",
    "import matplotlib.pyplot as plt\n",
    "import seaborn as sns\n",
    "%matplotlib inline\n",
    "plt.plot(order, Rsqu_test)\n",
    "plt.xlabel(\"order\")\n",
    "plt.ylabel(\"Rsqu_test\")\n",
    "plt.title(\"R-squared values using test data\")"
   ]
  },
  {
   "cell_type": "code",
   "execution_count": 25,
   "id": "9628bf82",
   "metadata": {},
   "outputs": [
    {
     "name": "stdout",
     "output_type": "stream",
     "text": [
      "The mean cross val score for Linear Regression is  0.9999999983731318 and the standard deviation is  1.7264707903790162e-09\n",
      "The mean cross val score for Ridge Regression is  0.9999999983731428 and the standard deviation is  1.7264861269116662e-09\n",
      "The mean cross val score for Lasso Regression is  0.9999999983740638 and the standard deviation is  1.7278451752782752e-09\n",
      "The mean cross val score for Polynomial Regression is  0.9999999981326655 and the standard deviation is  1.5997462122533513e-09\n"
     ]
    },
    {
     "name": "stderr",
     "output_type": "stream",
     "text": [
      "C:\\Users\\jpanc\\AppData\\Roaming\\Python\\Python39\\site-packages\\sklearn\\linear_model\\_ridge.py:204: LinAlgWarning: Ill-conditioned matrix (rcond=1.44175e-17): result may not be accurate.\n",
      "  return linalg.solve(A, Xy, assume_a=\"pos\", overwrite_a=True).T\n",
      "C:\\Users\\jpanc\\AppData\\Roaming\\Python\\Python39\\site-packages\\sklearn\\linear_model\\_ridge.py:204: LinAlgWarning: Ill-conditioned matrix (rcond=9.29297e-18): result may not be accurate.\n",
      "  return linalg.solve(A, Xy, assume_a=\"pos\", overwrite_a=True).T\n",
      "C:\\Users\\jpanc\\AppData\\Roaming\\Python\\Python39\\site-packages\\sklearn\\linear_model\\_ridge.py:204: LinAlgWarning: Ill-conditioned matrix (rcond=1.0192e-17): result may not be accurate.\n",
      "  return linalg.solve(A, Xy, assume_a=\"pos\", overwrite_a=True).T\n",
      "C:\\Users\\jpanc\\AppData\\Roaming\\Python\\Python39\\site-packages\\sklearn\\linear_model\\_ridge.py:204: LinAlgWarning: Ill-conditioned matrix (rcond=1.54986e-17): result may not be accurate.\n",
      "  return linalg.solve(A, Xy, assume_a=\"pos\", overwrite_a=True).T\n",
      "C:\\Users\\jpanc\\AppData\\Roaming\\Python\\Python39\\site-packages\\sklearn\\linear_model\\_ridge.py:204: LinAlgWarning: Ill-conditioned matrix (rcond=2.26826e-17): result may not be accurate.\n",
      "  return linalg.solve(A, Xy, assume_a=\"pos\", overwrite_a=True).T\n"
     ]
    }
   ],
   "source": [
    "#Cross validation is conducted on linear, ridge, and lasso regression models and the cross validation scores (in terms of R^2) are displayed\n",
    "Rcross_lr = cross_val_score(lr, df[[\"YEAR\", \"MPAA RATING\", \"TOTAL BOX OFFICE IN 2019 DOLLARS\"]], df[\"TICKETS SOLD\"], cv=5)\n",
    "print(\"The mean cross val score for Linear Regression is \", Rcross_lr.mean(), \"and the standard deviation is \", Rcross_lr.std())\n",
    "Rcross_ridge = cross_val_score(ridge1, df[[\"YEAR\", \"MPAA RATING\", \"TOTAL BOX OFFICE IN 2019 DOLLARS\"]], df[\"TICKETS SOLD\"], cv=5)\n",
    "print(\"The mean cross val score for Ridge Regression is \", Rcross_ridge.mean(), \"and the standard deviation is \", Rcross_ridge.std())\n",
    "Rcross_lasso = cross_val_score(lasso, df[[\"YEAR\", \"MPAA RATING\", \"TOTAL BOX OFFICE IN 2019 DOLLARS\"]], df[\"TICKETS SOLD\"], cv=5)\n",
    "print(\"The mean cross val score for Lasso Regression is \", Rcross_lasso.mean(), \"and the standard deviation is \", Rcross_lasso.std())\n",
    "Rcross_poly = cross_val_score(pipeline, df[[\"YEAR\", \"MPAA RATING\", \"TOTAL BOX OFFICE IN 2019 DOLLARS\"]], df[\"TICKETS SOLD\"], cv=5)\n",
    "print(\"The mean cross val score for Polynomial Regression is \", Rcross_poly.mean(), \"and the standard deviation is \", Rcross_poly.std())"
   ]
  }
 ],
 "metadata": {
  "kernelspec": {
   "display_name": "Python 3 (ipykernel)",
   "language": "python",
   "name": "python3"
  },
  "language_info": {
   "codemirror_mode": {
    "name": "ipython",
    "version": 3
   },
   "file_extension": ".py",
   "mimetype": "text/x-python",
   "name": "python",
   "nbconvert_exporter": "python",
   "pygments_lexer": "ipython3",
   "version": "3.9.12"
  }
 },
 "nbformat": 4,
 "nbformat_minor": 5
}
